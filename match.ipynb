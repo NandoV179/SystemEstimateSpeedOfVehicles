{
  "nbformat": 4,
  "nbformat_minor": 0,
  "metadata": {
    "colab": {
      "name": "match.ipynb",
      "provenance": [],
      "authorship_tag": "ABX9TyPugiIW5plBChTaPGLaq3Mk",
      "include_colab_link": true
    },
    "kernelspec": {
      "name": "python3",
      "display_name": "Python 3"
    }
  },
  "cells": [
    {
      "cell_type": "markdown",
      "metadata": {
        "id": "view-in-github",
        "colab_type": "text"
      },
      "source": [
        "<a href=\"https://colab.research.google.com/github/NandoV179/SystemEstimateSpeedOfVehicles/blob/main/match.ipynb\" target=\"_parent\"><img src=\"https://colab.research.google.com/assets/colab-badge.svg\" alt=\"Open In Colab\"/></a>"
      ]
    },
    {
      "cell_type": "code",
      "metadata": {
        "colab": {
          "base_uri": "https://localhost:8080/"
        },
        "id": "zytf99Xja7GJ",
        "outputId": "96fb34b5-7691-427b-bfb2-6b0d31352283"
      },
      "source": [
        "import numpy as np\n",
        "import pandas as pd\n",
        "from shapely.geometry import Polygon\n",
        "secuencia=\"40871\"\n",
        "data = pd.read_csv('XML_'+secuencia+'.txt', header=0, sep=',')\n",
        "data1 = pd.read_csv('RCNN_RED_'+secuencia+'.txt', header=0, sep=',')\n",
        "\n",
        "\n",
        "print(data)\n",
        "print(data1)\n"
      ],
      "execution_count": null,
      "outputs": [
        {
          "output_type": "stream",
          "text": [
            "       frame  Id       X        Y       W        H  Velocidad  densidad\n",
            "0          1   1  756.27  167.470  130.06   70.330    1.71000        16\n",
            "1          1   2  570.67  136.530   97.00   54.340    1.75920        16\n",
            "2          1   3  430.93  119.470   61.80   35.130    1.38670        16\n",
            "3          1   4  330.67   96.000   49.00   30.870    0.75425        16\n",
            "4          1   5  467.20  354.130  223.93  186.870    6.73610        16\n",
            "...      ...  ..     ...      ...     ...      ...        ...       ...\n",
            "36620   1720  33  309.33  147.200   74.60   50.070    0.00000        22\n",
            "36621   1720  34  460.80  103.470   76.73   55.400    0.00000        22\n",
            "36622   1720  35  269.87   93.867   42.60   31.933    0.00000        22\n",
            "36623   1720  36  231.47   83.200   38.33   28.730    0.00000        22\n",
            "36624   1720  37  217.60  108.800   47.93   36.200    0.00000        22\n",
            "\n",
            "[36625 rows x 8 columns]\n",
            "       frame        x       y        w       h  densidad\n",
            "0          2  207.040  156.56   46.880   40.92        24\n",
            "1          2  427.510  122.70   64.550   30.66        24\n",
            "2          2  463.070  266.96  150.740  101.04        24\n",
            "3          2  211.170  212.24   81.720   68.61        24\n",
            "4          2  745.530  166.49  157.190   79.66        24\n",
            "...      ...      ...     ...      ...     ...       ...\n",
            "53418   1720  869.860  207.23   91.140   77.29        25\n",
            "53419   1720  895.460  295.67   65.540   68.10        25\n",
            "53420   1720  622.180  216.38   89.010   55.27        25\n",
            "53421   1720   51.066  201.39   39.956   63.89        25\n",
            "53422   1720  400.000  200.98   84.270   56.09        25\n",
            "\n",
            "[53423 rows x 6 columns]\n"
          ],
          "name": "stdout"
        }
      ]
    },
    {
      "cell_type": "code",
      "metadata": {
        "id": "5tLHnxtjcIkD",
        "colab": {
          "base_uri": "https://localhost:8080/"
        },
        "outputId": "9fabfa92-3b88-4d65-d125-7be885b8de4e"
      },
      "source": [
        "R=np.array(data.to_numpy())\n",
        "Y=H=np.array(data1.to_numpy())\n",
        "filasR=np.shape(R)\n",
        "filaR=filasR[0]\n",
        "print(filaR)\n",
        "filasY=np.shape(Y)\n",
        "filaY=filasY[0]\n",
        "print(filaY)"
      ],
      "execution_count": null,
      "outputs": [
        {
          "output_type": "stream",
          "text": [
            "36625\n",
            "53423\n"
          ],
          "name": "stdout"
        }
      ]
    },
    {
      "cell_type": "code",
      "metadata": {
        "id": "fUfyhJlQl9gB"
      },
      "source": [
        "cont_no_match=0\n",
        "l_iou=[]\n",
        "l_frame=[]\n",
        "l_idCar=[]\n",
        "l_x=[]\n",
        "l_y=[]\n",
        "l_w=[]\n",
        "l_h=[]\n",
        "l_vel=[]\n",
        "\n",
        "ln_frame=[]\n",
        "ln_x=[]\n",
        "ln_y=[]\n",
        "ln_w=[]\n",
        "ln_h=[]\n",
        "for i in range (0 , filaY):\n",
        "  Yfr = Y[i][0]\n",
        "  Yx=Y[i][1]\n",
        "  Yy=Y[i][2]\n",
        "  Yw=Y[i][3]\n",
        "  Yh=Y[i][4]\n",
        "  Yd=Y[i][5]\n",
        "  cont=0\n",
        "  for j in range (0,filaR):\n",
        "    Rfr= R[j][0]\n",
        "    Rid = R[j][1]\n",
        "    Rx =R[j][2]\n",
        "    Ry= R[j][3]\n",
        "    Rw= R[j][4]\n",
        "    Rh= R[j][5]\n",
        "    Rvel= R[j][6]\n",
        "    den=R[j][7]\n",
        "    densidad=int(den)\n",
        "\n",
        "    if (Yfr == Rfr):\n",
        "\n",
        "      box1 =[[Rx,Ry+Rh],[Rx+Rw,Ry+Rh],[Rx+Rw,Ry],[Rx,Ry]]\n",
        "      box2 =[[Yx,Yy+Yh],[Yx+Yw,Yy+Yh],[Yx+Yw,Yy],[Yx,Yy]]\n",
        "\n",
        "      #print(box1 , box2)\n",
        "      poly_1 = Polygon(box1)\n",
        "      poly_2 = Polygon(box2)\n",
        "      \n",
        "      iou = poly_1.intersection(poly_2).area / poly_1.union(poly_2).area\n",
        "      \n",
        "      if (iou > 0.7):\n",
        "        #print(iou, Yfr, Yx, Yy, Yw, Yh)\n",
        "        #print(iou, Rfr, Rx, Ry, Rw, Rh, Rid, Rvel )\n",
        "        l_iou.append(iou)\n",
        "        l_frame.append(Yfr)\n",
        "        l_idCar.append(Rid)\n",
        "        l_x.append(Yx)\n",
        "        l_y.append(Yy)\n",
        "        l_w.append(Yw)\n",
        "        l_h.append(Yh)\n",
        "        l_vel.append(Rvel)\n",
        "        break\n",
        "      else:\n",
        "        cont = cont + 1\n",
        "      \n",
        "      if (cont == densidad):\n",
        "        cont_no_match = cont_no_match + 1\n",
        "        #print(\"no match\",Yfr, Yx, Yy, Yw, Yh )\n",
        "        ln_frame.append(Yfr)\n",
        "        ln_x.append(Yx)\n",
        "        ln_y.append(Yy)\n",
        "        ln_w.append(Yw)\n",
        "        ln_h.append(Yh)\n",
        "\n",
        "\n",
        "df = pd.DataFrame({'IOU': l_iou,\n",
        "                   'frame': l_frame,\n",
        "                   'id': l_idCar,\n",
        "                   'X': l_x,\n",
        "                   'Y': l_y,\n",
        "                   'W': l_w,\n",
        "                   'H': l_h,\n",
        "                   'Velocidad': l_vel,\n",
        "                   })\n",
        "nombreArchivo = 'YOLO_Com_MVI_' + secuencia + '.txt'\n",
        "df.to_csv(nombreArchivo, index=False)\n",
        "\n",
        "df1 = pd.DataFrame({'frame': ln_frame,\n",
        "                   'X': ln_x,\n",
        "                   'Y': ln_y,\n",
        "                   'W': ln_w,\n",
        "                   'H': ln_h,\n",
        "                   })\n",
        "nombreArchivo1 = 'YOLO_No_Match_MVI_' + secuencia + '.txt'\n",
        "df1.to_csv(nombreArchivo1, index=False)\n",
        "\n"
      ],
      "execution_count": null,
      "outputs": []
    }
  ]
}